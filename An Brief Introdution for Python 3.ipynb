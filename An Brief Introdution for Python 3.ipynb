{
 "cells": [
  {
   "cell_type": "markdown",
   "metadata": {},
   "source": [
    "# An Brief Introduction for Python 3\n",
    "\n",
    "This introdution for Python is very concise and brief. We just know how to use the primary command for Python 3.\n",
    "\n",
    "Preferrence:\n",
    "\n",
    "- [https://www.runoob.com](https://www.runoob.com/python3/python3-intro.html)\n",
    "- [廖雪峰python教程](https://www.liaoxuefeng.com/wiki/1016959663602400)"
   ]
  },
  {
   "cell_type": "markdown",
   "metadata": {},
   "source": [
    "## Why Python?\n",
    "\n",
    "### Advantages\n",
    "\n",
    "- Free and open source\n",
    "- A huge of modules \n",
    "- Easy and less script, more works\n",
    "- An beginer's first language\n",
    "- 解释性语言\n",
    "- 面向对象编程\n",
    "- Universal language\n",
    "- 多平台支持\n",
    "- 代码易读性 -- 接近伪代码，规范性\n",
    "- Popular: Make money\n",
    "- Big data and AI\n",
    "\n",
    "![TIOBE - 2019年10月编程语言排行]( https://www.hangge.com/blog_uploads/201910/2019101509590099602.png \"TIOBE - 2019年10月编程语言排行\")\n",
    "\n",
    "### Disadvantages\n",
    "\n",
    "- 运行速度慢：核心代码需要用C++或C重写\n",
    "\n"
   ]
  },
  {
   "cell_type": "markdown",
   "metadata": {},
   "source": [
    "## How to install python 3 environment\n",
    "\n",
    "There are many ways to set up the python 3 development environment for professional programmer. But here we just introduce a very useful, simple and powerful IDE (integrated development environment) -- anaconda because we focus on the financial data analysis by using python. \n",
    "\n",
    "### Why Anaconda?\n",
    "\n",
    "- Free and easy\n",
    "- Powerful\n",
    "- 集成安装了大多数金融数据分析的包, 如Pandas, Numpy, Scipy等等\n",
    "- 对windows环境较为友好\n",
    "\n",
    "### 如何安装？\n",
    "\n",
    "- [Anaconda 网站](www.anaconda.org) 下载免费版\n",
    "- Notes: 最好安装在非系统盘的独立文件夹，如 D:\\Anaconda\n",
    "\n",
    "### 基本界面\n",
    "\n",
    "- Anaconda Nivagator\n",
    "\n",
    "[Anaconda Nivagator]()\n",
    "\n",
    "- Spider\n",
    "\n",
    "- Anaconda Prompt\n",
    "\n",
    "\n",
    "\n",
    "\n",
    "\n",
    "\n"
   ]
  },
  {
   "cell_type": "markdown",
   "metadata": {},
   "source": [
    "## Python3 基础语法\n",
    "\n",
    "### 编码\n",
    "\n",
    "默认情况下，Python 3 源码文件以 UTF-8 编码，所有字符串都是 unicode 字符串。 当然你也可以为源码文件指定不同的编码："
   ]
  },
  {
   "cell_type": "code",
   "execution_count": 1,
   "metadata": {},
   "outputs": [],
   "source": [
    "# -*- coding: utf-8 -*-"
   ]
  },
  {
   "cell_type": "markdown",
   "metadata": {},
   "source": [
    "### 标识符\n",
    "\n",
    "- 第一个字符必须是字母表中字母或下划线 _ 。\n",
    "- 标识符的其他的部分由字母、数字和下划线组成。\n",
    "- 标识符对大小写敏感。\n",
    "- Notes: 在 Python 3 中，可以用中文作为变量名(**极力反对！！**)，非 ASCII 标识符也是允许的了。\n",
    "\n",
    "### python保留字\n",
    "\n",
    "保留字即关键字，我们不能把它们用作任何标识符名称。Python 的标准库提供了一个 keyword 模块，可以输出当前版本的所有关键字：\n"
   ]
  },
  {
   "cell_type": "code",
   "execution_count": 3,
   "metadata": {},
   "outputs": [
    {
     "data": {
      "text/plain": [
       "['False',\n",
       " 'None',\n",
       " 'True',\n",
       " 'and',\n",
       " 'as',\n",
       " 'assert',\n",
       " 'async',\n",
       " 'await',\n",
       " 'break',\n",
       " 'class',\n",
       " 'continue',\n",
       " 'def',\n",
       " 'del',\n",
       " 'elif',\n",
       " 'else',\n",
       " 'except',\n",
       " 'finally',\n",
       " 'for',\n",
       " 'from',\n",
       " 'global',\n",
       " 'if',\n",
       " 'import',\n",
       " 'in',\n",
       " 'is',\n",
       " 'lambda',\n",
       " 'nonlocal',\n",
       " 'not',\n",
       " 'or',\n",
       " 'pass',\n",
       " 'raise',\n",
       " 'return',\n",
       " 'try',\n",
       " 'while',\n",
       " 'with',\n",
       " 'yield']"
      ]
     },
     "execution_count": 3,
     "metadata": {},
     "output_type": "execute_result"
    }
   ],
   "source": [
    "import keyword\n",
    "keyword.kwlist"
   ]
  },
  {
   "cell_type": "markdown",
   "metadata": {},
   "source": [
    "### 注释\n",
    "Python中单行注释以 # 开头，多行注释可以用多个 # 号，还有 ''' 和 \"\"\"："
   ]
  },
  {
   "cell_type": "code",
   "execution_count": 6,
   "metadata": {},
   "outputs": [
    {
     "name": "stdout",
     "output_type": "stream",
     "text": [
      "Hello, Python!\n"
     ]
    },
    {
     "data": {
      "text/plain": [
       "'\\n第三注释\\n第四注释\\n'"
      ]
     },
     "execution_count": 6,
     "metadata": {},
     "output_type": "execute_result"
    }
   ],
   "source": [
    "# 第一个注释\n",
    "print (\"Hello, Python!\") # 第二个注释\n",
    "\n",
    "# 第一个注释\n",
    "# 第二个注释\n",
    " \n",
    "'''\n",
    "\n",
    "'''\n",
    "\n",
    "\"\"\"\n",
    "第三注释\n",
    "第四注释\n",
    "\"\"\"\n"
   ]
  },
  {
   "cell_type": "markdown",
   "metadata": {},
   "source": [
    "### 行与缩进\n",
    "\n",
    "python使用缩进来表示代码块，不需要使用大括号 {}. (Python 的显著特征)\n",
    "\n",
    "缩进的空格数是可变的（惯例为4个），但是同一个代码块的语句必须包含相同的缩进空格数。实例如下："
   ]
  },
  {
   "cell_type": "code",
   "execution_count": 7,
   "metadata": {},
   "outputs": [
    {
     "name": "stdout",
     "output_type": "stream",
     "text": [
      "I'm True\n"
     ]
    }
   ],
   "source": [
    "if True:\n",
    "    print(\"I'm True\")\n",
    "else:\n",
    "    print(\"I'm False\")"
   ]
  },
  {
   "cell_type": "markdown",
   "metadata": {},
   "source": [
    "语句缩进数的空格数不一致，会导致运行错误："
   ]
  },
  {
   "cell_type": "code",
   "execution_count": 9,
   "metadata": {},
   "outputs": [
    {
     "ename": "IndentationError",
     "evalue": "unindent does not match any outer indentation level (<tokenize>, line 3)",
     "output_type": "error",
     "traceback": [
      "\u001b[1;36m  File \u001b[1;32m\"<tokenize>\"\u001b[1;36m, line \u001b[1;32m3\u001b[0m\n\u001b[1;33m    print(\"I'm Haha\")\u001b[0m\n\u001b[1;37m    ^\u001b[0m\n\u001b[1;31mIndentationError\u001b[0m\u001b[1;31m:\u001b[0m unindent does not match any outer indentation level\n"
     ]
    }
   ],
   "source": [
    "if True:\n",
    "    print(\"I'm True\")\n",
    "  print(\"I'm Haha\")\n",
    "else:\n",
    "    print(\"I'm False\")"
   ]
  },
  {
   "cell_type": "markdown",
   "metadata": {},
   "source": [
    "### 多行语句\n",
    "\n",
    "Python 通常是一行写完一条语句，但如果语句很长，我们可以使用反斜杠(\\\\)来实现多行语句，例如："
   ]
  },
  {
   "cell_type": "code",
   "execution_count": 11,
   "metadata": {},
   "outputs": [
    {
     "data": {
      "text/plain": [
       "13"
      ]
     },
     "execution_count": 11,
     "metadata": {},
     "output_type": "execute_result"
    }
   ],
   "source": [
    "first, second, third = 1, 5, 7\n",
    "all_sum = first + \\\n",
    "          second + \\\n",
    "          third\n",
    "all_sum"
   ]
  },
  {
   "cell_type": "markdown",
   "metadata": {},
   "source": [
    "在 [], {}, 或 () 中的多行语句，不需要使用反斜杠(\\)，例如："
   ]
  },
  {
   "cell_type": "code",
   "execution_count": 12,
   "metadata": {},
   "outputs": [],
   "source": [
    "names = ['Tom', 'Harry',\n",
    "        'Jiajia', 'Black',\n",
    "        'Michael']"
   ]
  },
  {
   "cell_type": "markdown",
   "metadata": {},
   "source": [
    "## Python3 基本数据类型\n",
    "\n",
    "- Python 中的变量不需要声明。每个变量在使用前都必须赋值，变量赋值以后该变量才会被创建。\n",
    "\n",
    "- 在 Python 中，变量就是变量，它没有类型，我们所说的\"**类型**\"是变量所指的内存中对象的类型。\n",
    "\n",
    "- 等号（\\=）用来给变量赋值。等号（\\=）运算符左边是一个变量名,等号（\\=）运算符右边是存储在变量中的值。例如："
   ]
  },
  {
   "cell_type": "code",
   "execution_count": 16,
   "metadata": {},
   "outputs": [
    {
     "data": {
      "text/plain": [
       "'hehe'"
      ]
     },
     "execution_count": 16,
     "metadata": {},
     "output_type": "execute_result"
    }
   ],
   "source": [
    "you = 125\n",
    "me = 250\n",
    "he = \"hehe\"\n",
    "\n",
    "print(you)\n",
    "print(me)\n",
    "print(he)"
   ]
  },
  {
   "cell_type": "markdown",
   "metadata": {},
   "source": [
    "多个变量赋值\n",
    "Python允许你同时为多个变量赋值(**不建议**)。例如："
   ]
  },
  {
   "cell_type": "code",
   "execution_count": 18,
   "metadata": {},
   "outputs": [],
   "source": [
    "# 整形对象100分配给x, y, z\n",
    "x = y = z = f = 100\n",
    "\n",
    "# 两个整型对象 1 和 3 的分配给变量 x 和 y，字符串对象 \"xixihaha\" 分配给变量z\n",
    "x, y, z = 1, 3, \"xixihaha\""
   ]
  },
  {
   "cell_type": "markdown",
   "metadata": {},
   "source": [
    "## 标准数据类型\n",
    "\n",
    "Python3 中有六个标准的数据类型：\n",
    "\n",
    "**不可变类型**\n",
    "- Number（数字）\n",
    "- String（字符串）\n",
    "- Tuple（元组）\n",
    "\n",
    "**可变类型**\n",
    "- List（列表）\n",
    "- Set（集合）\n",
    "- Dictionary（字典）"
   ]
  },
  {
   "cell_type": "markdown",
   "metadata": {},
   "source": [
    "### Number\n",
    "\n",
    "- int、float、bool、complex\n",
    "\n",
    "- type() 函数可以用来查询变量所指的对象类型\n",
    "\n",
    "- 数值运算\n",
    "   - +, -, \\*, /, //, %, \\*\\*\n",
    "\n",
    "**Notes**: del语句删除单个或多个对象, 如\n",
    "`del x, y, z`"
   ]
  },
  {
   "cell_type": "markdown",
   "metadata": {},
   "source": [
    "### String（字符串）\n",
    "\n",
    "- python中单引号和双引号使用完全相同。\n",
    "- 使用三引号('''或\"\"\")可以指定一个多行字符串。\n",
    "- 转义符 '\\'\n",
    "- 反斜杠可以用来转义，使用r可以让反斜杠不发生转义。。 如 r\"this is a line with \\n\" 则\\n会显示，并不是换行。\n",
    "- 按字面意义级联字符串，如\"this \" \"is \" \"string\"会被自动转换为this is string。\n",
    "- 字符串可以用 + 运算符连接在一起，用 * 运算符重复。\n",
    "- Python 中的字符串有两种索引方式，从左往右以 0 开始，从右往左以 -1 开始。\n",
    "- Python中的字符串不能改变。\n",
    "- Python 没有单独的字符类型，一个字符就是长度为 1 的字符串。\n",
    "- 字符串的截取的语法格式如下：\n",
    "\n",
    "**<center>```变量[头下标:尾下标]```</center>**"
   ]
  },
  {
   "cell_type": "code",
   "execution_count": 19,
   "metadata": {},
   "outputs": [
    {
     "name": "stdout",
     "output_type": "stream",
     "text": [
      "xixihaha\n",
      "xixihah\n",
      "x\n",
      "xih\n",
      "xihaha\n",
      "xixihahaxixihaha\n",
      "xixihahaTEST\n"
     ]
    }
   ],
   "source": [
    "str = 'xixihaha'\n",
    "print (str)          # 输出字符串\n",
    "print (str[0:-1])    # 输出第一个到倒数第二个的所有字符\n",
    "print (str[0])       # 输出字符串第一个字符\n",
    "print (str[2:5])     # 输出从第三个开始到第五个的字符\n",
    "print (str[2:])      # 输出从第三个开始的后的所有字符\n",
    "print (str * 2)      # 输出字符串两次\n",
    "print (str + \"TEST\") # 连接字符串"
   ]
  },
  {
   "cell_type": "markdown",
   "metadata": {},
   "source": [
    "### List（列表）\n",
    "\n",
    "- List（列表） 是 Python 中使用最频繁的数据类型。\n",
    "\n",
    "- 列表可以完成大多数集合类的数据结构实现。列表中元素的类型可以不相同，它支持数字，字符串甚至可以包含列表（所谓嵌套）。\n",
    "\n",
    "- 列表是写在方括号 \\[ \\] 之间、用逗号分隔开的元素列表。\n",
    "\n",
    "- 和字符串一样，列表同样可以被索引和截取，列表被截取后返回一个包含所需元素的新列表。\n",
    "\n",
    "- 列表截取的语法格式如下：\n",
    "**<center>```变量[头下标:尾下标:步长]```</center>**\n"
   ]
  },
  {
   "cell_type": "markdown",
   "metadata": {},
   "source": [
    "### 空行\n",
    "\n",
    "- 函数之间或类的方法之间用空行分隔，表示一段新的代码的开始。类和函数入口之间也用一行空行分隔，以突出函数入口的开始。\n",
    "\n",
    "- 空行与代码缩进不同，空行并不是Python语法的一部分。书写时不插入空行，Python解释器运行也不会出错。但是空行的作用在于分隔两段不同功能或含义的代码，便于日后代码的维护或重构。\n",
    "\n"
   ]
  },
  {
   "cell_type": "code",
   "execution_count": 20,
   "metadata": {},
   "outputs": [
    {
     "name": "stdout",
     "output_type": "stream",
     "text": [
      "['xixihaha', 333, 222, 'hehe', 'niniu']\n",
      "xixihaha\n",
      "[333, 222]\n",
      "[222, 'hehe', 'niniu']\n",
      "[23, 'python', 23, 'python']\n",
      "['xixihaha', 333, 222, 'hehe', 'niniu', 23, 'python']\n"
     ]
    }
   ],
   "source": [
    "list = [ 'xixihaha', 333 , 222, 'hehe', 'niniu' ]\n",
    "tinylist = [23, 'python']\n",
    " \n",
    "print (list)            # 输出完整列表\n",
    "print (list[0])         # 输出列表第一个元素\n",
    "print (list[1:3])       # 从第二个开始输出到第三个元素\n",
    "print (list[2:])        # 输出从第三个元素开始的所有元素\n",
    "print (tinylist * 2)    # 输出两次列表\n",
    "print (list + tinylist) # 连接列表"
   ]
  },
  {
   "cell_type": "code",
   "execution_count": null,
   "metadata": {},
   "outputs": [],
   "source": []
  }
 ],
 "metadata": {
  "kernelspec": {
   "display_name": "Python 3",
   "language": "python",
   "name": "python3"
  },
  "language_info": {
   "codemirror_mode": {
    "name": "ipython",
    "version": 3
   },
   "file_extension": ".py",
   "mimetype": "text/x-python",
   "name": "python",
   "nbconvert_exporter": "python",
   "pygments_lexer": "ipython3",
   "version": "3.7.1"
  }
 },
 "nbformat": 4,
 "nbformat_minor": 2
}
